{
  "nbformat": 4,
  "nbformat_minor": 0,
  "metadata": {
    "colab": {
      "name": "pr1.ipynb",
      "provenance": [],
      "collapsed_sections": []
    },
    "kernelspec": {
      "name": "python3",
      "display_name": "Python 3"
    },
    "language_info": {
      "name": "python"
    }
  },
  "cells": [
    {
      "cell_type": "code",
      "execution_count": 14,
      "metadata": {
        "colab": {
          "base_uri": "https://localhost:8080/"
        },
        "id": "BfrcmajjF97m",
        "outputId": "ffe50fe8-ce50-4d7b-e730-6ba946ce89f1"
      },
      "outputs": [
        {
          "output_type": "stream",
          "name": "stdout",
          "text": [
            "[1, 2, 34, 5, 'Bhargav', ['dr']]\n",
            "[['dr'], 'Bhargav', 5, 34, 2, 1]\n",
            "1\n",
            "[1, 2, 34, 5, 'Bhargav', ['dr'], 1]\n",
            "[1, 2, 34, 5, 'Bhargav', ['dr'], 1, ['a', 'b', 'c']]\n"
          ]
        }
      ],
      "source": [
        "#implement list\n",
        "\n",
        "list = [1,2,34,5,\"Bhargav\" , [\"dr\"]]\n",
        "print(list)\n",
        "print(list[::-1])\n",
        "print(list[0])\n",
        "\n",
        "#append in list\n",
        "list.append(1)\n",
        "print(list)\n",
        "list2 = [\"a\",\"b\",\"c\"]\n",
        "list.append(list2)\n",
        "print(list)\n",
        "\n",
        "\n",
        "\n"
      ]
    },
    {
      "cell_type": "code",
      "source": [
        "#implement dictionary\n",
        "\n",
        "dict ={ \n",
        "    \"a1\":\"Bhargav\",\n",
        "    \"a2\":\"deep\",\n",
        "    \"a3\":\"dhruv\"\n",
        "}\n",
        "\n",
        "print(dict)\n",
        "print(dict[\"a1\"])\n",
        "print(dict.get(\"a2\"))\n",
        "\n",
        "del dict[\"a3\"]\n",
        "print(dict)\n"
      ],
      "metadata": {
        "colab": {
          "base_uri": "https://localhost:8080/"
        },
        "id": "iZqQwnd6LHFg",
        "outputId": "91f066ed-76bc-45a5-e9b2-4e0181b98ede"
      },
      "execution_count": 15,
      "outputs": [
        {
          "output_type": "stream",
          "name": "stdout",
          "text": [
            "{'a1': 'Bhargav', 'a2': 'deep', 'a3': 'dhruv'}\n",
            "Bhargav\n",
            "deep\n",
            "{'a1': 'Bhargav', 'a2': 'deep'}\n"
          ]
        }
      ]
    },
    {
      "cell_type": "code",
      "source": [
        "#impelement dataframes\n",
        "\n",
        "import pandas as pd\n",
        "data = {'Name':['Bhargav', 'Deep', 'krish', 'Rohit'],\n",
        "        'Age':[20, 21,22,35]\n",
        "      }\n",
        "data1 = {'Name':['Bhargav', 'Deep', 'krish', 'Rohit'],\n",
        "        'Age':[20, 21,22,35],\n",
        "        'Address':['surat', 'surat', 'Allahabad', 'pune'],\n",
        "        'Qualification':['BE', 'BE', 'MCA', 'PHD']}\n",
        "\n",
        "D_frame = pd.DataFrame(data)\n",
        "D_frame2 = pd.DataFrame(data1)\n",
        "print(D_frame)\n",
        "print(\"\\n\")\n",
        "print(D_frame2[[\"Name\",\"Address\" ,\"Qualification\"]])"
      ],
      "metadata": {
        "colab": {
          "base_uri": "https://localhost:8080/"
        },
        "id": "97kZ5ZSgZBCv",
        "outputId": "f03c8512-950c-4bdd-b607-d4baa5f85875"
      },
      "execution_count": 22,
      "outputs": [
        {
          "output_type": "stream",
          "name": "stdout",
          "text": [
            "      Name  Age\n",
            "0  Bhargav   20\n",
            "1     Deep   21\n",
            "2    krish   22\n",
            "3    Rohit   35\n",
            "\n",
            "\n",
            "      Name    Address Qualification\n",
            "0  Bhargav      surat            BE\n",
            "1     Deep      surat            BE\n",
            "2    krish  Allahabad           MCA\n",
            "3    Rohit       pune           PHD\n"
          ]
        }
      ]
    },
    {
      "cell_type": "code",
      "source": [
        "# Implement numpy \n",
        "\n",
        "import numpy as nm\n",
        "ar = nm.array([[1,2,3],4,5,[11,22]])\n",
        "print(ar,\"\\n\")\n",
        "print(ar[:2]) #slice the array\n",
        "\n",
        "x= ar.view()\n",
        "print(x,\"\\n\")\n",
        "\n",
        "Rs = ar.reshape(2,2)\n",
        "print(Rs,\"\\n\")\n",
        "\n",
        "for x in ar:\n",
        "  print(x)\n",
        "\n",
        "print('\\n')\n",
        "\n",
        "\n",
        "arr1 = nm.array([1,2,3])\n",
        "arr2 = nm.array([4,5,6])\n",
        "\n",
        "arr3 = nm.concatenate((arr1,arr2))\n",
        "print(arr3,\"\\n\")\n",
        "\n",
        "arr4 = nm.where(arr1 == 2)\n",
        "print(arr4)\n"
      ],
      "metadata": {
        "colab": {
          "base_uri": "https://localhost:8080/"
        },
        "id": "99sJDU5un5cR",
        "outputId": "b858c797-b264-4302-a197-4f790608c281"
      },
      "execution_count": 42,
      "outputs": [
        {
          "output_type": "stream",
          "name": "stdout",
          "text": [
            "[list([1, 2, 3]) 4 5 list([11, 22])] \n",
            "\n",
            "[list([1, 2, 3]) 4]\n",
            "[list([1, 2, 3]) 4 5 list([11, 22])] \n",
            "\n",
            "[[list([1, 2, 3]) 4]\n",
            " [5 list([11, 22])]] \n",
            "\n",
            "[1, 2, 3]\n",
            "4\n",
            "5\n",
            "[11, 22]\n",
            "\n",
            "\n",
            "[1 2 3 4 5 6] \n",
            "\n",
            "(array([1]),)\n"
          ]
        },
        {
          "output_type": "stream",
          "name": "stderr",
          "text": [
            "/usr/local/lib/python3.7/dist-packages/ipykernel_launcher.py:4: VisibleDeprecationWarning: Creating an ndarray from ragged nested sequences (which is a list-or-tuple of lists-or-tuples-or ndarrays with different lengths or shapes) is deprecated. If you meant to do this, you must specify 'dtype=object' when creating the ndarray\n",
            "  after removing the cwd from sys.path.\n"
          ]
        }
      ]
    }
  ]
}